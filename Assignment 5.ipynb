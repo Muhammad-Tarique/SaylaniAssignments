{
 "cells": [
  {
   "cell_type": "code",
   "execution_count": 1,
   "metadata": {},
   "outputs": [
    {
     "name": "stdout",
     "output_type": "stream",
     "text": [
      "Enter a number: 5\n",
      "The factorial of 5 is:   120\n"
     ]
    }
   ],
   "source": [
    "# Q#1\n",
    "num = int(input(\"Enter a number: \"))\n",
    "if num < 0:\n",
    "   print(\"Sorry, factorial does not exist for negative numbers\")\n",
    "elif num == 0:\n",
    "   print(\"The factorial of 0 is --> 1\")\n",
    "else:\n",
    "    fact = 1\n",
    "    for n in range(1,num + 1):\n",
    "        fact = fact*n\n",
    "    print(\"The factorial of\",num,\"is:  \",fact)"
   ]
  },
  {
   "cell_type": "code",
   "execution_count": 2,
   "metadata": {},
   "outputs": [
    {
     "name": "stdout",
     "output_type": "stream",
     "text": [
      "Enter a String with both lower and upper case letters: I am Tariq\n",
      "The number of upper case letters are 2 \n",
      "The number of lower case letters are 6\n"
     ]
    }
   ],
   "source": [
    "# Q#2\n",
    "string = input(\"Enter a String with both lower and upper case letters: \")\n",
    "countl = countu = 0\n",
    "for char in string:\n",
    "    if char == \" \":\n",
    "        continue\n",
    "    elif char == char.upper():\n",
    "        countu += 1\n",
    "    elif char == char.lower():\n",
    "        countl += 1\n",
    "print(\"The number of upper case letters are\",countu,\"\\nThe number of lower case letters are\",countl)"
   ]
  },
  {
   "cell_type": "code",
   "execution_count": 4,
   "metadata": {},
   "outputs": [
    {
     "name": "stdout",
     "output_type": "stream",
     "text": [
      "How many number you want to add to the list: 4\n",
      "Enter the 1 number: 34\n",
      "Enter the 2 number: 54\n",
      "Enter the 3 number: 22\n",
      "Enter the 4 number: 99\n",
      "34 is an even number\n",
      "54 is an even number\n",
      "22 is an even number\n",
      "99 is not an even number\n"
     ]
    }
   ],
   "source": [
    "# Q#3\n",
    "a_list = []\n",
    "for ind in range(1,int(input(\"How many number you want to add to the list: \"))+1):\n",
    "    a_list.append(int(input(\"Enter the %d number: \" %ind)))\n",
    "for num in a_list:\n",
    "    if num%2==0:\n",
    "        print(num,\"is an even number\")\n",
    "    else:\n",
    "        print(num,\"is not an even number\")"
   ]
  },
  {
   "cell_type": "code",
   "execution_count": 5,
   "metadata": {},
   "outputs": [
    {
     "name": "stdout",
     "output_type": "stream",
     "text": [
      "Enter a word: nadan\n",
      "It is a Palindrome\n"
     ]
    }
   ],
   "source": [
    "# Q#4\n",
    "string = input(\"Enter a word: \")\n",
    "if string.lower() == string.lower()[::-1]:\n",
    "    print(\"It is a Palindrome\")\n",
    "else:\n",
    "    print(\"not a Palindrome\")"
   ]
  },
  {
   "cell_type": "code",
   "execution_count": 6,
   "metadata": {},
   "outputs": [
    {
     "name": "stdout",
     "output_type": "stream",
     "text": [
      "Enter a number: 5\n",
      "5 is a Prime number\n"
     ]
    }
   ],
   "source": [
    "# Q#5\n",
    "num = int(input(\"Enter a number: \"))\n",
    "if num > 1:\n",
    "    for x in range(2,num):\n",
    "        if num % x == 0:\n",
    "            print(num,\"is not Prime number\")\n",
    "            break\n",
    "    else:\n",
    "        print(num,\"is a Prime number\")\n",
    "else:\n",
    "    print(num,\"is not a Prime number\")"
   ]
  },
  {
   "cell_type": "code",
   "execution_count": 23,
   "metadata": {},
   "outputs": [
    {
     "name": "stdout",
     "output_type": "stream",
     "text": [
      "You have bought:\n",
      "apple\n",
      "pineapple\n",
      "bananas\n",
      "vegetables\n"
     ]
    }
   ],
   "source": [
    "#  Q#6\n",
    "    def shopping(*things):\n",
    "    print(\"You have bought:\")\n",
    "    for thing in things:\n",
    "        print(thing)\n",
    "shopping(\"apple\",\"pineapple\",\"bananas\",\"vegetables\")"
   ]
  }
 ],
 "metadata": {
  "kernelspec": {
   "display_name": "Python 3",
   "language": "python",
   "name": "python3"
  },
  "language_info": {
   "codemirror_mode": {
    "name": "ipython",
    "version": 3
   },
   "file_extension": ".py",
   "mimetype": "text/x-python",
   "name": "python",
   "nbconvert_exporter": "python",
   "pygments_lexer": "ipython3",
   "version": "3.7.3"
  }
 },
 "nbformat": 4,
 "nbformat_minor": 2
}
