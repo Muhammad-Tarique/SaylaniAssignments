{
 "cells": [
  {
   "cell_type": "code",
   "execution_count": 2,
   "metadata": {},
   "outputs": [
    {
     "name": "stdout",
     "output_type": "stream",
     "text": [
      "Enter your AI marks: 45\n",
      "Enter your Neoro marks: 56\n",
      "Enter your IT marks: 67\n",
      "Enter your Programming marks: 76\n",
      "Enter your Networking marks: 77\n",
      "You failed in AI\n",
      "You got C Grade in Neoro\n",
      "You got B Grade in IT\n",
      "You got A Grade in Programming\n",
      "You got A Grade in Networking\n",
      "Your Perctage is:  64.2\n"
     ]
    }
   ],
   "source": [
    "AI = int(input(\"Enter your AI marks: \"))\n",
    "Neuro = int(input(\"Enter your Neoro marks: \"))\n",
    "IT = int(input(\"Enter your IT marks: \"))\n",
    "Programming = int(input(\"Enter your Programming marks: \"))\n",
    "Networking = int(input(\"Enter your Networking marks: \"))\n",
    "if AI>=80:\n",
    "    print(\"You got A+ Grade in AI\")\n",
    "elif AI>=70:\n",
    "    print(\"You got A Grade in AI\")\n",
    "elif AI>=60:\n",
    "    print(\"You got B Grade in AI\")\n",
    "elif AI>=50:\n",
    "    print(\"You got C Grade in AI\")\n",
    "else:\n",
    "    print(\"You failed in AI\")\n",
    "if Neuro>=80:\n",
    "    print(\"You got A+ Grade in Neoro\")\n",
    "elif Neuro>=70:\n",
    "    print(\"You got A Grade in Neoro\")\n",
    "elif Neuro>=60:\n",
    "    print(\"You got B Grade in Neoro\")\n",
    "elif Neuro>=50:\n",
    "    print(\"You got C Grade in Neoro\")\n",
    "else:\n",
    "    print(\"You failed in Neoro\")\n",
    "if IT>=80:\n",
    "    print(\"You got A+ Grade in IT\")\n",
    "elif IT>=70:\n",
    "    print(\"You got A Grade in IT\")\n",
    "elif IT>=60:\n",
    "    print(\"You got B Grade in IT\")\n",
    "elif IT>=50:\n",
    "    print(\"You got C Grade in IT\")\n",
    "else:\n",
    "    print(\"You failed in IT\")\n",
    "if Programming>=80:\n",
    "    print(\"You got A+ Grade in Programming\")\n",
    "elif Programming>=70:\n",
    "    print(\"You got A Grade in Programming\")\n",
    "elif Programming>=60:\n",
    "    print(\"You got B Grade in Programming\")\n",
    "elif Programming>=50:\n",
    "    print(\"You got C Grade in Programming\")\n",
    "else:\n",
    "    print(\"You failed in Programming\")\n",
    "if Networking>=80:\n",
    "    print(\"You got A+ Grade in Networking\")\n",
    "elif Networking>=70:\n",
    "    print(\"You got A Grade in Networking\")\n",
    "elif Networking>=60:\n",
    "    print(\"You got B Grade in Networking\")\n",
    "elif Networking>=50:\n",
    "    print(\"You got C Grade in Networking\")\n",
    "else:\n",
    "    print(\"You failed in Networking\")\n",
    "print(\"Your Perctage is: \", (AI+Neuro+IT+Programming+Networking)/5)"
   ]
  },
  {
   "cell_type": "code",
   "execution_count": 3,
   "metadata": {},
   "outputs": [
    {
     "name": "stdout",
     "output_type": "stream",
     "text": [
      "Enter a number: 55\n",
      "Your Input is an Odd number.\n"
     ]
    }
   ],
   "source": [
    "Inp = int(input(\"Enter a number: \"))\n",
    "if Inp %2 ==0:\n",
    "    print(\"Your Input is an Even number.\")\n",
    "else:\n",
    "    print(\"Your Input is an Odd number.\")"
   ]
  },
  {
   "cell_type": "code",
   "execution_count": 5,
   "metadata": {},
   "outputs": [
    {
     "name": "stdout",
     "output_type": "stream",
     "text": [
      "10\n"
     ]
    }
   ],
   "source": [
    "x = [34,45,3,445,34,3,445,56,67,34]\n",
    "print(len(x))"
   ]
  },
  {
   "cell_type": "code",
   "execution_count": 6,
   "metadata": {},
   "outputs": [
    {
     "name": "stdout",
     "output_type": "stream",
     "text": [
      "How many Numbers do you want to add to the list: 6\n",
      "Enter a Number: 45\n",
      "Enter a Number: 34\n",
      "Enter a Number: 45\n",
      "Enter a Number: 56\n",
      "Enter a Number: 34\n",
      "Enter a Number: 56\n",
      "Sum of all Numbers in the list is : 270\n"
     ]
    }
   ],
   "source": [
    "Numbers = []\n",
    "num_add = int(input(\"How many Numbers do you want to add to the list: \"))\n",
    "for x in range(num_add):\n",
    "    a_number = int(input(\"Enter a Number: \"))\n",
    "    Numbers.append(a_number)\n",
    "print(\"Sum of all Numbers in the list is :\", sum(Numbers))"
   ]
  },
  {
   "cell_type": "code",
   "execution_count": 7,
   "metadata": {},
   "outputs": [
    {
     "name": "stdout",
     "output_type": "stream",
     "text": [
      "54\n"
     ]
    }
   ],
   "source": [
    "x = [34,45,34,5,4,34,34,54,34,34,34]\n",
    "print(max(x))"
   ]
  },
  {
   "cell_type": "code",
   "execution_count": 8,
   "metadata": {},
   "outputs": [
    {
     "name": "stdout",
     "output_type": "stream",
     "text": [
      "1\n",
      "1\n",
      "2\n",
      "3\n"
     ]
    }
   ],
   "source": [
    "List = [1, 1, 2, 3, 5, 8, 13, 21, 34, 55, 89]\n",
    "for x in List:\n",
    "    if x < 5:\n",
    "        print(x)"
   ]
  },
  {
   "cell_type": "code",
   "execution_count": null,
   "metadata": {},
   "outputs": [],
   "source": []
  }
 ],
 "metadata": {
  "kernelspec": {
   "display_name": "Python 3",
   "language": "python",
   "name": "python3"
  },
  "language_info": {
   "codemirror_mode": {
    "name": "ipython",
    "version": 3
   },
   "file_extension": ".py",
   "mimetype": "text/x-python",
   "name": "python",
   "nbconvert_exporter": "python",
   "pygments_lexer": "ipython3",
   "version": "3.7.3"
  }
 },
 "nbformat": 4,
 "nbformat_minor": 2
}
