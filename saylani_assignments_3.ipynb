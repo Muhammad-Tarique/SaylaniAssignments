{
 "cells": [
  {
   "cell_type": "code",
   "execution_count": 4,
   "metadata": {},
   "outputs": [
    {
     "name": "stdout",
     "output_type": "stream",
     "text": [
      "\t\t Calculator\n",
      "Enter Value # 1\n",
      "4\n",
      "Enter Value # 2\n",
      "5\n",
      "Choose any Option To Perform an Operation \n",
      "1.Addition\n",
      "2.Substraction\n",
      "3.Multiplication\n",
      "4.Division\n",
      "5.Power\n",
      "3\n",
      "Your Multiplication is: 20\n"
     ]
    }
   ],
   "source": [
    "print(\"\\t\\t Calculator\")\n",
    "value_1 = int(input(\"Enter Value # 1\\n\"))\n",
    "value_2 = int(input(\"Enter Value # 2\\n\"))\n",
    "option = int(input(\"Choose any Option To Perform an Operation \\n1.Addition\\n2.Substraction\\n3.Multiplication\\n4.Division\\n5.Power\\n\"))\n",
    "\n",
    "if (option == 1):\n",
    "    print(\"Your Addition is: \" + str(value_1 + value_2))\n",
    "elif (option == 2):\n",
    "    print(\"Your Substraction is: \" + str(value_1 - value_2))\n",
    "elif (option == 3):\n",
    "    print(\"Your Multiplication is: \" + str(value_1 * value_2))\n",
    "elif (option == 4):\n",
    "    print(\"Your Division  is: \" + str(value_1 / value_2))\n",
    "\n",
    "elif (option == 5):\n",
    "    x = int(input(\"Enter which value power do you want\\n1.value \\n2.Value2 \"))\n",
    "    if (x == 1):\n",
    "        c = int(input(\"write power of value 1\"))\n",
    "        print(\"Power of value 1 = \" + str(value_1 ** c))\n",
    "\n",
    "    elif (x == 2):\n",
    "        d = int(input(\"write power of value 2\"))\n",
    "        print(\"Power of value 2= \" + str(value_2 ** d))\n",
    "\n",
    "\n",
    "\n"
   ]
  },
  {
   "cell_type": "code",
   "execution_count": 7,
   "metadata": {},
   "outputs": [
    {
     "name": "stdout",
     "output_type": "stream",
     "text": [
      "1.2 is a number\n",
      "22 is a number\n",
      "69 is not a number\n",
      "Jordan is not a number\n",
      "54.3 is a number\n"
     ]
    }
   ],
   "source": [
    "lis=[1.2,22,\"69\",\"Jordan\",54.3]\n",
    "for var in lis:\n",
    "    if (isinstance(var, int) or isinstance(var, float)):\n",
    "        print(var,\"is a number\")\n",
    "    else:\n",
    "        print(var,\"is not a number\")"
   ]
  },
  {
   "cell_type": "code",
   "execution_count": 8,
   "metadata": {},
   "outputs": [
    {
     "name": "stdout",
     "output_type": "stream",
     "text": [
      "{'name': 'Tariq', 'age': 22, 'Sex': 'Male'}\n",
      "{'name': 'Tariq', 'age': 22, 'Sex': 'Male', 'Father_name': 'Abdul Razzaq'}\n"
     ]
    }
   ],
   "source": [
    "_dict= {\"name\":\"Tariq\",\"age\":22,\"Sex\":\"Male\"}\n",
    "print(_dict)\n",
    "_dict.update({\"Father_name\":\"Abdul Razzaq\"})\n",
    "print(_dict)"
   ]
  },
  {
   "cell_type": "code",
   "execution_count": 10,
   "metadata": {},
   "outputs": [
    {
     "name": "stdout",
     "output_type": "stream",
     "text": [
      "317\n"
     ]
    }
   ],
   "source": [
    "_dict={\"x\":324,\"y\":34,\"z\":-32,\"abc\":-9}\n",
    "_sum=0\n",
    "for x in _dict.values():\n",
    "    _sum+=x\n",
    "print(_sum)"
   ]
  },
  {
   "cell_type": "code",
   "execution_count": 12,
   "metadata": {},
   "outputs": [
    {
     "name": "stdout",
     "output_type": "stream",
     "text": [
      "1 is repeated 3 times\n",
      "2 is repeated 3 times\n",
      "3 is repeated 4 times\n",
      "4 is repeated 3 times\n",
      "5 is repeated 2 times\n"
     ]
    }
   ],
   "source": [
    "a = [1,2,3,2,3,4,5,6,1,5,4,3,1,2,3,4]\n",
    "_list=[]\n",
    "for numb in a:\n",
    "    if numb not in _list:\n",
    "        _list.append(numb)\n",
    "for x in _list:\n",
    "    if a.count(x)>=2:\n",
    "        print(x,\"is repeated\",a.count(x),\"times\")"
   ]
  },
  {
   "cell_type": "code",
   "execution_count": 1,
   "metadata": {},
   "outputs": [
    {
     "name": "stdout",
     "output_type": "stream",
     "text": [
      "Key is present in the dictionary\n",
      "Key is not present in the dictionary\n"
     ]
    }
   ],
   "source": [
    "d = {\"Tariq\": 10, \"Jordan\": 20, \"Osama\": 30, \"jano\": 40, \"hahahahah\": 50, \"philani\": 60}\n",
    "def is_key_present(x):\n",
    "  if x in d:\n",
    "      print('Key is present in the dictionary')\n",
    "  else:\n",
    "      print('Key is not present in the dictionary')\n",
    "is_key_present('Jordan')\n",
    "is_key_present('kaka') "
   ]
  },
  {
   "cell_type": "code",
   "execution_count": null,
   "metadata": {},
   "outputs": [],
   "source": []
  }
 ],
 "metadata": {
  "kernelspec": {
   "display_name": "Python 3",
   "language": "python",
   "name": "python3"
  },
  "language_info": {
   "codemirror_mode": {
    "name": "ipython",
    "version": 3
   },
   "file_extension": ".py",
   "mimetype": "text/x-python",
   "name": "python",
   "nbconvert_exporter": "python",
   "pygments_lexer": "ipython3",
   "version": "3.7.3"
  }
 },
 "nbformat": 4,
 "nbformat_minor": 2
}
