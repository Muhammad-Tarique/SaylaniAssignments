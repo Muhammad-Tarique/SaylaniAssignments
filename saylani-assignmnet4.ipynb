{
 "cells": [
  {
   "cell_type": "code",
   "execution_count": 1,
   "metadata": {},
   "outputs": [
    {
     "name": "stdout",
     "output_type": "stream",
     "text": [
      "{'first_name': 'Muhammad Tariq', 'last_name': 'Abdul Razzaque', 'age': 23, 'city': 'Karachi'}\n",
      "{'first_name': 'Muhammad Tariq', 'last_name': 'Abdul Razzaque', 'age': 23, 'city': 'Karachi', 'qualification': 'last year'}\n",
      "{'first_name': 'Muhammad Tariq', 'last_name': 'Abdul Razzaque', 'age': 23, 'city': 'Karachi', 'qualification': 'Graduated'}\n",
      "{'first_name': 'Muhammad Tariq', 'last_name': 'Abdul Razzaque', 'age': 23, 'city': 'Karachi'}\n"
     ]
    }
   ],
   "source": [
    "data = {\"first_name\":\"Muhammad Tariq\", \"last_name\":\"Abdul Razzaque\", \"age\":23, \"city\":\"Karachi\"}\n",
    "print(data)\n",
    "data[\"qualification\"] = \"last year\"\n",
    "print(data)\n",
    "data[\"qualification\"] = \"Graduated\"\n",
    "print(data)\n",
    "del data[\"qualification\"]\n",
    "print(data)"
   ]
  },
  {
   "cell_type": "code",
   "execution_count": 2,
   "metadata": {
    "scrolled": true
   },
   "outputs": [
    {
     "name": "stdout",
     "output_type": "stream",
     "text": [
      "Country :  Pakistan\n",
      "Population :  213,557\n",
      "Fact :  Turbat is the second-largest city in Balochistan Province after Quetta\n",
      "\n",
      "Country :  Germany\n",
      "Population :  3.748 million\n",
      "Fact :  The capital and largest city of Germany by both area and population\n",
      "\n",
      "Country :  Spain\n",
      "Population :  5.515 million\n",
      "Fact :  Is known for its art and architecture\n",
      "\n"
     ]
    }
   ],
   "source": [
    "Gwadar = {\"Country\":\"Pakistan\",\"Population\":\"213,557\",\"Fact\":\"Turbat is the second-largest city in Balochistan Province after Quetta\"}\n",
    "Berlin = {\"Country\":\"Germany\",\"Population\":\"3.748 million\",\"Fact\":\"The capital and largest city of Germany by both area and population\"}\n",
    "Barcelona = {\"Country\":\"Spain\",\"Population\":\"5.515 million\",\"Fact\":\"Is known for its art and architecture\"}\n",
    "alist = [Gwadar,Berlin,Barcelona]\n",
    "for name in alist: \n",
    "    for data in name:\n",
    "        print(data, \": \", name.get(data))\n",
    "    print()"
   ]
  },
  {
   "cell_type": "code",
   "execution_count": 12,
   "metadata": {},
   "outputs": [
    {
     "name": "stdout",
     "output_type": "stream",
     "text": [
      "Enter your age as a whole number: 23\n",
      "Your ticket costs only $15\n"
     ]
    }
   ],
   "source": [
    "age = int(input(\"Enter your age as a whole number: \"))\n",
    "if age < 3 and age > 0:\n",
    "\tprint(\"Your ticket is free.\")\n",
    "elif age >= 3 and age <= 12:\n",
    "\tprint(\"Your ticket costs only $10\")\n",
    "elif age > 12:\n",
    "\tprint(\"Your ticket costs only $15\")"
   ]
  },
  {
   "cell_type": "code",
   "execution_count": 10,
   "metadata": {},
   "outputs": [
    {
     "name": "stdout",
     "output_type": "stream",
     "text": [
      "Enter your favorite book: Introduction to Programming\n",
      "One of My favorite book is \"Introduction to Programming\"\n"
     ]
    }
   ],
   "source": [
    "def favorite_book(title):\n",
    "\tprint(\"One of My favorite book is \\\"\"+title+\"\\\"\" )\n",
    "favorite_book(input(\"Enter your favorite book: \"))"
   ]
  },
  {
   "cell_type": "code",
   "execution_count": 11,
   "metadata": {},
   "outputs": [
    {
     "name": "stdout",
     "output_type": "stream",
     "text": [
      "You have three tries to Guess the number between 1 to 30\n",
      "Enter the Guess number: 25\n",
      "Guessed number is greater than Real number\n",
      "Try again\n",
      "Enter the Guess number: 6\n",
      "Guessed number is Less than Real number\n",
      "Try again\n",
      "Enter the Guess number: 15\n",
      "Guessed number is greater than Real number\n",
      "You have failed to Guess the number\n",
      "The number was 11\n"
     ]
    }
   ],
   "source": [
    "from random import randrange \n",
    "num = randrange(1,31)\n",
    "print(\"You have three tries to Guess the number between 1 to 30\")\n",
    "for Try in range(3): \n",
    "    gnum = int(input(\"Enter the Guess number: \"))\n",
    "    if gnum == num:\n",
    "        print(\"Your Guess is COrrect\")\n",
    "        break\n",
    "    else:\n",
    "        if gnum > num:\n",
    "            print(\"Guessed number is greater than Real number\")\n",
    "        elif gnum < num:\n",
    "            print(\"Guessed number is Less than Real number\")\n",
    "        if Try<2:\n",
    "            print(\"Try again\")\n",
    "        else:\n",
    "            print(\"You have failed to Guess the number\")\n",
    "            print(\"The number was\", num)"
   ]
  },
  {
   "cell_type": "code",
   "execution_count": null,
   "metadata": {},
   "outputs": [],
   "source": []
  }
 ],
 "metadata": {
  "kernelspec": {
   "display_name": "Python 3",
   "language": "python",
   "name": "python3"
  },
  "language_info": {
   "codemirror_mode": {
    "name": "ipython",
    "version": 3
   },
   "file_extension": ".py",
   "mimetype": "text/x-python",
   "name": "python",
   "nbconvert_exporter": "python",
   "pygments_lexer": "ipython3",
   "version": "3.7.3"
  }
 },
 "nbformat": 4,
 "nbformat_minor": 2
}
