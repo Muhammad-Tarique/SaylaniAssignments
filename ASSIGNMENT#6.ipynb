{
 "cells": [
  {
   "cell_type": "code",
   "execution_count": 1,
   "metadata": {},
   "outputs": [],
   "source": [
    "# Q. 1 what is OOP?\n",
    "#               Object-oriented programming is a programming paradigm based on the concept of \"objects\", which can contain \n",
    "#               data, in the form of fields, and code, in the form of procedures. A feature of objects is an object's\n",
    "#               procedures that can access and often modify the data fields of the object with which they are associated.\n"
   ]
  },
  {
   "cell_type": "code",
   "execution_count": 2,
   "metadata": {},
   "outputs": [],
   "source": [
    "# Q.2 Benefit of OOP\n",
    "#       It provides a clear modular structure for programs which makes\n",
    "#       it good for defining abstract datatypes in which implementation details are hidden.\n",
    "#       Objects can also be reused within an across applications. ...\n",
    "#       It makes software easier to maintain. ...\n",
    "#       Reuse also enables faster development etc.\n"
   ]
  },
  {
   "cell_type": "code",
   "execution_count": 3,
   "metadata": {},
   "outputs": [],
   "source": [
    "# Q. 3 Diff between method and function\n",
    "#         Method and a function are the same, with different terms. A method is a procedure or function in object-oriented\n",
    "#         programming.\n",
    "#         A function is a group of reusable code which can be called anywhere in your program. This eliminates the need\n",
    "#         for writing the same code again and again. It helps programmers in writing modular codes.\n"
   ]
  },
  {
   "cell_type": "code",
   "execution_count": 4,
   "metadata": {},
   "outputs": [],
   "source": [
    "# Q. 4\n",
    "# Class: \n",
    "#     In object-oriented programming, a class is an extensible program-code-template for creating objects, providing \n",
    "#     initial values for state and implementations of behavior.\n",
    "\n",
    "# Object: \n",
    "#     In object-oriented programming (OOP), objects are the things you think about first in designing a program and they \n",
    "#     are also the units of code that are eventually derived from the process. ... Each object is an instance of a \n",
    "#     particular class or subclass with the class's own methods or procedures and data variables.\n",
    "       \n",
    "# Attribute: \n",
    "#     In Object-oriented programming(OOP), classes and objects have attributes ,.Attributes are data stored inside a \n",
    "#     class or instance and represent the state or quality of the class or instance. ... One can think of attributes as\n",
    "#     noun or adjective, while methods are the verb of the class.\n",
    "\n",
    "# Behaviour:  \n",
    "#     A class's behavior determines how an instance of that class operates; for example, how it will \"react\" if asked to \n",
    "#     do something by another class or object or if its internal state changes. Behavior is the only way objects can do\n",
    "#     anything to themselves or have anything done to them.\n"
   ]
  },
  {
   "cell_type": "code",
   "execution_count": 5,
   "metadata": {},
   "outputs": [
    {
     "name": "stdout",
     "output_type": "stream",
     "text": [
      "Car  ferrari\n",
      "Name honda\n",
      "Model  Red\n",
      "Engine 3.34 Hourse Power\n",
      "Speed  343km per hour\n"
     ]
    }
   ],
   "source": [
    "# q.5\n",
    "class Car:\n",
    "    def mod(self,name,car):\n",
    "        print(\"Car \",car)\n",
    "        print(\"Name\",name)\n",
    "\n",
    "    def color(self,model,engine):\n",
    "        print(\"Model \",model)\n",
    "        print(\"Engine\",engine)\n",
    "\n",
    "    def name(self,speed):\n",
    "        print(\"Speed \",speed)\n",
    "\n",
    "\n",
    "obj=Car()\n",
    "obj.mod(\"honda\",\"ferrari\")\n",
    "obj.color(\"Red\",\"3.34 Hourse Power\")\n",
    "obj.name(\"343km per hour\")"
   ]
  },
  {
   "cell_type": "code",
   "execution_count": null,
   "metadata": {},
   "outputs": [],
   "source": []
  }
 ],
 "metadata": {
  "kernelspec": {
   "display_name": "Python 3",
   "language": "python",
   "name": "python3"
  },
  "language_info": {
   "codemirror_mode": {
    "name": "ipython",
    "version": 3
   },
   "file_extension": ".py",
   "mimetype": "text/x-python",
   "name": "python",
   "nbconvert_exporter": "python",
   "pygments_lexer": "ipython3",
   "version": "3.7.3"
  }
 },
 "nbformat": 4,
 "nbformat_minor": 2
}
